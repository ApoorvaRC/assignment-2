{
 "cells": [
  {
   "cell_type": "markdown",
   "metadata": {},
   "source": [
    " <h1>    **********************************ASSIGNMENT 2 *************************************      </h1>"
   ]
  },
  {
   "cell_type": "markdown",
   "metadata": {},
   "source": [
    "<b>Task 1:    \n",
    "1.1  \n",
    "Write a Python Program to implement your own myreduce() function which works exactly like Python's built-in function reduce()</b>"
   ]
  },
  {
   "cell_type": "markdown",
   "metadata": {},
   "source": [
    "The reduce() function accepts a function and a sequence and returns a single value calculated as follows:\n",
    "\n",
    "Initially, the function is called with the first two items from the sequence and the result is returned.\n",
    "The function is then called again with the result obtained in step 1 and the next value in the sequence. This process keeps repeating until there are items in the sequence.\n",
    "\n",
    "Syntax: reduce(function, sequence[, initial]) -> value"
   ]
  },
  {
   "cell_type": "markdown",
   "metadata": {},
   "source": [
    "<b>Custom function:</b>"
   ]
  },
  {
   "cell_type": "code",
   "execution_count": 1,
   "metadata": {},
   "outputs": [
    {
     "name": "stdout",
     "output_type": "stream",
     "text": [
      "multiplication  on list [3,2,3,4] using custom reduce function: 72\n"
     ]
    }
   ],
   "source": [
    "# Custom reduce function\n",
    "def myreduce(func, sequence):\n",
    "    # Get first item in sequence and assign to a\n",
    "    a = sequence[0]\n",
    "    # Iterate over remaining items in sequence and apply function\n",
    "    for i in sequence[1:]:\n",
    "        a = func(a, i)\n",
    "    return a\n",
    "# test myreduce function\n",
    "def mul(x1, x2): \n",
    "    return x1*x2\n",
    "\n",
    "print('multiplication  on list [3,2,3,4] using custom reduce function:', myreduce(mul, [3, 2, 3, 4]))\n"
   ]
  },
  {
   "cell_type": "markdown",
   "metadata": {},
   "source": [
    "<b>python built-in-function</b>"
   ]
  },
  {
   "cell_type": "code",
   "execution_count": 2,
   "metadata": {},
   "outputs": [
    {
     "name": "stdout",
     "output_type": "stream",
     "text": [
      "reduce func: 72\n"
     ]
    }
   ],
   "source": [
    "from functools import reduce\n",
    " \n",
    "def mul(x1, x2): \n",
    "    return x1* x2\n",
    "\n",
    "print('reduce func:',reduce(mul, [3, 2, 3, 4]))"
   ]
  },
  {
   "cell_type": "markdown",
   "metadata": {},
   "source": [
    "<b>1.2 \n",
    "    \n",
    "Write a Python program to implement your own myfilter() function which works exactly like Python's built-in function filter() </b>"
   ]
  },
  {
   "cell_type": "markdown",
   "metadata": {},
   "source": [
    "The filter() function takes a function and a sequence as arguments and returns an iterable, only yielding the items in sequence for which function returns True. If None is passed instead of a function, all the items of the sequence which evaluates to False are removed. The syntax of the filter() is as follows:\n",
    "\n",
    "Syntax: filter(function or None, iterable) --> filter object"
   ]
  },
  {
   "cell_type": "markdown",
   "metadata": {},
   "source": [
    "<b>Custom function</b>"
   ]
  },
  {
   "cell_type": "code",
   "execution_count": 3,
   "metadata": {},
   "outputs": [
    {
     "name": "stdout",
     "output_type": "stream",
     "text": [
      "Prime numbers between 1-10: [3, 5, 7, 9]\n"
     ]
    }
   ],
   "source": [
    "# Custom filter function\n",
    "def myfilter(func,sequence):\n",
    "    # Initialize empty list\n",
    "    a = []\n",
    "     # iterate over sequence of items in sequence and apply filter function\n",
    "    for i in sequence:\n",
    "        if func(i):\n",
    "            a.append(i)\n",
    "    # return  output\n",
    "    return a\n",
    "\n",
    "# test myfilter function\n",
    "def isPrime(x):\n",
    "    for n in range(2,x):\n",
    "        if x%n==0:\n",
    "            return False\n",
    "        else:\n",
    "            return True\n",
    "        \n",
    "fltrObj=myfilter(isPrime, range(10))\n",
    "print ('Prime numbers between 1-10:', fltrObj)        \n"
   ]
  },
  {
   "cell_type": "markdown",
   "metadata": {},
   "source": [
    "<b>python built-in-function</b>"
   ]
  },
  {
   "cell_type": "code",
   "execution_count": 4,
   "metadata": {},
   "outputs": [
    {
     "name": "stdout",
     "output_type": "stream",
     "text": [
      "Prime numbers between 1-10: [3, 5, 7, 9]\n"
     ]
    }
   ],
   "source": [
    "def isPrime(x):\n",
    "    for n in range(2,x):\n",
    "        if x%n==0:\n",
    "            return False\n",
    "        else:\n",
    "            return True\n",
    "        \n",
    "fltrObj=filter(isPrime, range(10))\n",
    "print ('Prime numbers between 1-10:', list(fltrObj))"
   ]
  },
  {
   "cell_type": "markdown",
   "metadata": {},
   "source": [
    "<b>2.   \n",
    "Implement List comprehensions to produce the following lists.  \n",
    "Write List comprehensions to produce the following Lists  \n",
    "['A', 'C', 'A', 'D', 'G', 'I', ’L’, ‘ D’]  \n",
    "['x', 'xx', 'xxx', 'xxxx', 'y', 'yy', 'yyy', 'yyyy', 'z', 'zz', 'zzz', 'zzzz']  \n",
    "['x', 'y', 'z', 'xx', 'yy', 'zz', 'xx', 'yy', 'zz', 'xxxx', 'yyyy', 'zzzz']  \n",
    "[[2], [3], [4], [3], [4], [5], [4], [5], [6]]  \n",
    "[[2, 3, 4, 5], [3, 4, 5, 6], [4, 5, 6, 7], [5, 6, 7, 8]]  \n",
    "[(1, 1), (2, 1), (3, 1), (1, 2), (2, 2), (3, 2), (1, 3), (2, 3), (3, 3)] </b>"
   ]
  },
  {
   "cell_type": "code",
   "execution_count": 5,
   "metadata": {},
   "outputs": [
    {
     "name": "stdout",
     "output_type": "stream",
     "text": [
      "OUTPUT1: ['A', 'C', 'A', 'D', 'G', 'I', 'L', 'D']\n"
     ]
    }
   ],
   "source": [
    "#Write List comprehensions to produce the following Lists  \n",
    "#['A', 'C', 'A', 'D', 'G', 'I', ’L’, ‘ D’]\n",
    "\n",
    "letters = [ letter for letter in 'ACADGILD' ]\n",
    "print('OUTPUT1:',letters)"
   ]
  },
  {
   "cell_type": "code",
   "execution_count": 6,
   "metadata": {},
   "outputs": [
    {
     "name": "stdout",
     "output_type": "stream",
     "text": [
      "OUTPUT2: ['x', 'xx', 'xxx', 'xxxx', 'y', 'yy', 'yyy', 'yyyy', 'z', 'zz', 'zzz', 'zzzz']\n"
     ]
    }
   ],
   "source": [
    "#Write List comprehensions to produce the following Lists  \n",
    "#['x', 'xx', 'xxx', 'xxxx', 'y', 'yy', 'yyy', 'yyyy', 'z', 'zz', 'zzz', 'zzzz'] \n",
    "output2 = [ i*j for i in ['x','y','z'] for j in range(1,5)  ]\n",
    "print(\"OUTPUT2:\",output2)\n"
   ]
  },
  {
   "cell_type": "code",
   "execution_count": 7,
   "metadata": {},
   "outputs": [
    {
     "name": "stdout",
     "output_type": "stream",
     "text": [
      "OUTPUT3: ['x', 'y', 'z', 'xx', 'yy', 'zz', 'xxx', 'yyy', 'zzz', 'xxxx', 'yyyy', 'zzzz']\n"
     ]
    }
   ],
   "source": [
    "#Write List comprehensions to produce the following Lists  \n",
    "#['x', 'y', 'z', 'xx', 'yy', 'zz', 'xx', 'yy', 'zz', 'xxxx', 'yyyy', 'zzzz']\n",
    "output3= [ i*j for j in range(1,5) for i in ['x','y','z']  ]\n",
    "print(\"OUTPUT3:\",output3)"
   ]
  },
  {
   "cell_type": "code",
   "execution_count": 8,
   "metadata": {},
   "outputs": [
    {
     "name": "stdout",
     "output_type": "stream",
     "text": [
      "OUTPUT4: [[2], [3], [4], [3], [4], [5], [4], [5], [6]]\n"
     ]
    }
   ],
   "source": [
    "#Write List comprehensions to produce the following Lists  \n",
    "#[[2], [3], [4], [3], [4], [5], [4], [5], [6]]  \n",
    "\n",
    "output4 = [ [i+j] for i in [2,3,4] for j in range(0,3)]\n",
    "print('OUTPUT4:',output4)"
   ]
  },
  {
   "cell_type": "code",
   "execution_count": 9,
   "metadata": {},
   "outputs": [
    {
     "name": "stdout",
     "output_type": "stream",
     "text": [
      "OUTPUT5: [[2, 3, 4, 5], [3, 4, 5, 6], [4, 5, 6, 7], [5, 6, 7, 8]]\n"
     ]
    }
   ],
   "source": [
    "#Write List comprehensions to produce the following Lists  \n",
    "#[[2, 3, 4, 5], [3, 4, 5, 6], [4, 5, 6, 7], [5, 6, 7, 8]] \n",
    "\n",
    "output5=[[ i+j for i in range(2,6)]for j in range(0,4)]\n",
    "print('OUTPUT5:',output5)"
   ]
  },
  {
   "cell_type": "code",
   "execution_count": 10,
   "metadata": {},
   "outputs": [
    {
     "name": "stdout",
     "output_type": "stream",
     "text": [
      "OUTPUT6: [(1, 1), (2, 1), (3, 1), (1, 2), (2, 2), (3, 2), (1, 3), (2, 3), (3, 3)]\n"
     ]
    }
   ],
   "source": [
    "#Write List comprehensions to produce the following Lists  \n",
    "#[(1, 1), (2, 1), (3, 1), (1, 2), (2, 2), (3, 2), (1, 3), (2, 3), (3, 3)] \n",
    "output6=[(j,i) for i in [1,2,3] for j in [1,2,3]]\n",
    "print('OUTPUT6:',output6)"
   ]
  },
  {
   "cell_type": "markdown",
   "metadata": {},
   "source": [
    "<b>3.\n",
    "Implement a function longestWord() that takes a list of words and returns the longest one. </b>"
   ]
  },
  {
   "cell_type": "code",
   "execution_count": 11,
   "metadata": {},
   "outputs": [
    {
     "name": "stdout",
     "output_type": "stream",
     "text": [
      "The Longest Word: Assignments\n"
     ]
    }
   ],
   "source": [
    "def longestWord(words_list):\n",
    "    word_len = []\n",
    "    for n in words_list:\n",
    "        word_len.append((len(n), n))\n",
    "    word_len.sort()\n",
    "    return word_len[-1][1]\n",
    "\n",
    "print('The Longest Word:',longestWord([\"Assignments\", \"Exercises\", \"Back\",\"Submission\"]))"
   ]
  },
  {
   "cell_type": "markdown",
   "metadata": {},
   "source": [
    "<b>Task 2:   \n",
    "1.1  \n",
    "Write a Python Program(with class concepts) to find the area of the triangle using the below formula.  \n",
    "area = (s*(s-a)*(s-b)*(s-c)) ** 0.5  \n",
    "Function to take the length of the sides of triangle from user should be defined in the parent class and function to calculate the area should be defined in subclass. </b>"
   ]
  },
  {
   "cell_type": "code",
   "execution_count": 12,
   "metadata": {},
   "outputs": [
    {
     "name": "stdout",
     "output_type": "stream",
     "text": [
      "a=24\n",
      "b=28\n",
      "c=39\n",
      "area : 333.5804812934953\n"
     ]
    }
   ],
   "source": [
    "#parent class\n",
    "class parent:\n",
    "    def __init__(self,a,b,c):\n",
    "        self.a = float(a)\n",
    "        self.b = float(b)\n",
    "        self.c = float(c)\n",
    "a= int(input(\"a=\"))\n",
    "b= int(input(\"b=\"))\n",
    "c= int(input(\"c=\"))\n",
    "\n",
    "#sub class\n",
    "class triangle(parent):\n",
    "    def __init__(self,a,b,c):\n",
    "        super().__init__(a,b,c)\n",
    "\n",
    "    def get_area(self):\n",
    "        s = (a + b + c) / 2\n",
    "        return (s*(s-a)*(s-b)*(s-c)) ** 0.5        \n",
    "\n",
    "t = triangle(a,b,c)\n",
    "print(\"area : {}\".format(t.get_area()))"
   ]
  },
  {
   "cell_type": "markdown",
   "metadata": {},
   "source": [
    "<b>1.2\n",
    "\n",
    "Write a function filter_long_words() that takes a list of words and an integer n and returns the list of words that are longer than n. </b>"
   ]
  },
  {
   "cell_type": "code",
   "execution_count": 13,
   "metadata": {},
   "outputs": [
    {
     "name": "stdout",
     "output_type": "stream",
     "text": [
      "['returns', 'longer']\n"
     ]
    }
   ],
   "source": [
    "def filter_long_words(n, str):\n",
    "    word_len = []\n",
    "    txt = str.split(\" \")\n",
    "    for x in txt:\n",
    "        if len(x) > n:\n",
    "            word_len.append(x)\n",
    "    return word_len\t\n",
    "print(filter_long_words(5, \"returns the list of words that are longer than n\"))"
   ]
  },
  {
   "cell_type": "markdown",
   "metadata": {},
   "source": [
    "<b>\n",
    "2.1\n",
    "\n",
    "Write a Python program using function concept that maps  list of words into a list of integers representing the lengths of the corresponding words​. \n",
    "    Hint: ​If a list [ ab,cde,erty] is passed on to the python function output should come as [2,3,4]  \n",
    "Here 2,3 and 4 are the lengths of the words in the list. </b>"
   ]
  },
  {
   "cell_type": "code",
   "execution_count": 14,
   "metadata": {},
   "outputs": [
    {
     "name": "stdout",
     "output_type": "stream",
     "text": [
      "List of words:['Python', 'program', 'using', 'function', 'concept', 'that', 'maps', 'list', 'of', 'words']\n",
      "List of wordlength:[6, 7, 5, 8, 7, 4, 4, 4, 2, 5]\n"
     ]
    }
   ],
   "source": [
    "listOfWords = [ 'Python', 'program', 'using', 'function', 'concept', 'that', 'maps' ,'list', 'of', 'words']\n",
    "\n",
    "def length(listOfWords):\n",
    "    return list(map(lambda i:len(i),listOfWords))\n",
    "\n",
    "print (\"List of words:\"+str(listOfWords))    \n",
    "print (\"List of wordlength:\"+str(length(listOfWords)))"
   ]
  },
  {
   "cell_type": "markdown",
   "metadata": {},
   "source": [
    "<b>\n",
    "    2.2\n",
    "   \n",
    "Write a Python function which takes a character (i.e. a string of length 1) and returns True if it is a vowel, False otherwise.</b> "
   ]
  },
  {
   "cell_type": "code",
   "execution_count": 15,
   "metadata": {},
   "outputs": [
    {
     "name": "stdout",
     "output_type": "stream",
     "text": [
      "False\n",
      "True\n"
     ]
    }
   ],
   "source": [
    "def is_vowel(char):\n",
    "    all_vowels = 'aeiou'\n",
    "    return char in all_vowels\n",
    "print(is_vowel('c'))\n",
    "print(is_vowel('e'))"
   ]
  }
 ],
 "metadata": {
  "kernelspec": {
   "display_name": "Python 3",
   "language": "python",
   "name": "python3"
  },
  "language_info": {
   "codemirror_mode": {
    "name": "ipython",
    "version": 3
   },
   "file_extension": ".py",
   "mimetype": "text/x-python",
   "name": "python",
   "nbconvert_exporter": "python",
   "pygments_lexer": "ipython3",
   "version": "3.6.5"
  }
 },
 "nbformat": 4,
 "nbformat_minor": 2
}
